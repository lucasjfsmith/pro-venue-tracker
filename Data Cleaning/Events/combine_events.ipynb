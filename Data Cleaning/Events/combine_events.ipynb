{
 "cells": [
  {
   "cell_type": "code",
   "execution_count": 2,
   "id": "cebb4632",
   "metadata": {},
   "outputs": [],
   "source": [
    "import pandas as pd\n",
    "import datetime as dt"
   ]
  },
  {
   "cell_type": "code",
   "execution_count": 3,
   "id": "8ca85af1",
   "metadata": {},
   "outputs": [],
   "source": [
    "# Bring in events csvs\n",
    "mlb_events = pd.read_csv(\"../../Resources/events/mlb_events.csv\")\n",
    "nfl_pre_events = pd.read_csv(\"../../Resources/events/nfl_pre_events.csv\")\n",
    "nfl_events = pd.read_csv(\"../../Resources/events/nfl_events.csv\")\n",
    "mls_events = pd.read_csv(\"../../Resources/events/mls_events.csv\")\n",
    "nhl_events = pd.read_csv(\"../../Resources/events/nhl_events.csv\")\n"
   ]
  },
  {
   "cell_type": "code",
   "execution_count": 4,
   "id": "d1bfe394",
   "metadata": {},
   "outputs": [
    {
     "data": {
      "text/html": [
       "<div>\n",
       "<style scoped>\n",
       "    .dataframe tbody tr th:only-of-type {\n",
       "        vertical-align: middle;\n",
       "    }\n",
       "\n",
       "    .dataframe tbody tr th {\n",
       "        vertical-align: top;\n",
       "    }\n",
       "\n",
       "    .dataframe thead th {\n",
       "        text-align: right;\n",
       "    }\n",
       "</style>\n",
       "<table border=\"1\" class=\"dataframe\">\n",
       "  <thead>\n",
       "    <tr style=\"text-align: right;\">\n",
       "      <th></th>\n",
       "      <th>event_date</th>\n",
       "      <th>event_time_cst</th>\n",
       "      <th>home_id</th>\n",
       "      <th>away_id</th>\n",
       "      <th>venue_id</th>\n",
       "    </tr>\n",
       "  </thead>\n",
       "  <tbody>\n",
       "    <tr>\n",
       "      <th>0</th>\n",
       "      <td>03/30/2023</td>\n",
       "      <td>12:05 PM</td>\n",
       "      <td>111</td>\n",
       "      <td>122</td>\n",
       "      <td>98</td>\n",
       "    </tr>\n",
       "    <tr>\n",
       "      <th>1</th>\n",
       "      <td>03/30/2023</td>\n",
       "      <td>12:05 PM</td>\n",
       "      <td>124</td>\n",
       "      <td>113</td>\n",
       "      <td>111</td>\n",
       "    </tr>\n",
       "    <tr>\n",
       "      <th>2</th>\n",
       "      <td>03/30/2023</td>\n",
       "      <td>01:10 PM</td>\n",
       "      <td>104</td>\n",
       "      <td>114</td>\n",
       "      <td>91</td>\n",
       "    </tr>\n",
       "    <tr>\n",
       "      <th>3</th>\n",
       "      <td>03/30/2023</td>\n",
       "      <td>01:20 PM</td>\n",
       "      <td>123</td>\n",
       "      <td>95</td>\n",
       "      <td>110</td>\n",
       "    </tr>\n",
       "    <tr>\n",
       "      <th>4</th>\n",
       "      <td>03/30/2023</td>\n",
       "      <td>02:10 PM</td>\n",
       "      <td>121</td>\n",
       "      <td>101</td>\n",
       "      <td>108</td>\n",
       "    </tr>\n",
       "  </tbody>\n",
       "</table>\n",
       "</div>"
      ],
      "text/plain": [
       "   event_date event_time_cst  home_id  away_id  venue_id\n",
       "0  03/30/2023       12:05 PM      111      122        98\n",
       "1  03/30/2023       12:05 PM      124      113       111\n",
       "2  03/30/2023       01:10 PM      104      114        91\n",
       "3  03/30/2023       01:20 PM      123       95       110\n",
       "4  03/30/2023       02:10 PM      121      101       108"
      ]
     },
     "execution_count": 4,
     "metadata": {},
     "output_type": "execute_result"
    }
   ],
   "source": [
    "events_df = pd.concat([mlb_events, nfl_pre_events, nfl_events, mls_events, nhl_events], ignore_index=True)\n",
    "events_df = events_df.drop(columns=['Unnamed: 0'])\n",
    "events_df.head()"
   ]
  },
  {
   "cell_type": "code",
   "execution_count": 6,
   "id": "ed952fd4",
   "metadata": {},
   "outputs": [
    {
     "data": {
      "text/html": [
       "<div>\n",
       "<style scoped>\n",
       "    .dataframe tbody tr th:only-of-type {\n",
       "        vertical-align: middle;\n",
       "    }\n",
       "\n",
       "    .dataframe tbody tr th {\n",
       "        vertical-align: top;\n",
       "    }\n",
       "\n",
       "    .dataframe thead th {\n",
       "        text-align: right;\n",
       "    }\n",
       "</style>\n",
       "<table border=\"1\" class=\"dataframe\">\n",
       "  <thead>\n",
       "    <tr style=\"text-align: right;\">\n",
       "      <th></th>\n",
       "      <th>home_id</th>\n",
       "      <th>away_id</th>\n",
       "      <th>venue_id</th>\n",
       "      <th>event_timestamp_cst</th>\n",
       "    </tr>\n",
       "  </thead>\n",
       "  <tbody>\n",
       "    <tr>\n",
       "      <th>0</th>\n",
       "      <td>111</td>\n",
       "      <td>122</td>\n",
       "      <td>98</td>\n",
       "      <td>2023-03-30 12:05:00</td>\n",
       "    </tr>\n",
       "    <tr>\n",
       "      <th>1</th>\n",
       "      <td>124</td>\n",
       "      <td>113</td>\n",
       "      <td>111</td>\n",
       "      <td>2023-03-30 12:05:00</td>\n",
       "    </tr>\n",
       "    <tr>\n",
       "      <th>2</th>\n",
       "      <td>104</td>\n",
       "      <td>114</td>\n",
       "      <td>91</td>\n",
       "      <td>2023-03-30 13:10:00</td>\n",
       "    </tr>\n",
       "    <tr>\n",
       "      <th>3</th>\n",
       "      <td>123</td>\n",
       "      <td>95</td>\n",
       "      <td>110</td>\n",
       "      <td>2023-03-30 13:20:00</td>\n",
       "    </tr>\n",
       "    <tr>\n",
       "      <th>4</th>\n",
       "      <td>121</td>\n",
       "      <td>101</td>\n",
       "      <td>108</td>\n",
       "      <td>2023-03-30 14:10:00</td>\n",
       "    </tr>\n",
       "  </tbody>\n",
       "</table>\n",
       "</div>"
      ],
      "text/plain": [
       "   home_id  away_id  venue_id event_timestamp_cst\n",
       "0      111      122        98 2023-03-30 12:05:00\n",
       "1      124      113       111 2023-03-30 12:05:00\n",
       "2      104      114        91 2023-03-30 13:10:00\n",
       "3      123       95       110 2023-03-30 13:20:00\n",
       "4      121      101       108 2023-03-30 14:10:00"
      ]
     },
     "execution_count": 6,
     "metadata": {},
     "output_type": "execute_result"
    }
   ],
   "source": [
    "for i in range(len(events_df)):\n",
    "    date_string = f\"{events_df.iloc[i,0]} {events_df.iloc[i,1]}\"\n",
    "    timestamp = dt.datetime.strptime(date_string,'%m/%d/%Y %I:%M %p')\n",
    "    events_df.loc[i, \"event_timestamp_cst\"] = timestamp\n",
    "    \n",
    "events_df = events_df[['home_id', 'away_id', 'venue_id', 'event_timestamp_cst']]\n",
    "    \n",
    "events_df.head()"
   ]
  },
  {
   "cell_type": "code",
   "execution_count": null,
   "id": "b07ba98e",
   "metadata": {},
   "outputs": [],
   "source": [
    "mask = events_df['home_id'] == 113 \n",
    "events_df[mask].sort_values(\"event_timestamp_cst\")"
   ]
  },
  {
   "cell_type": "code",
   "execution_count": 6,
   "id": "9300f775",
   "metadata": {},
   "outputs": [],
   "source": [
    "events_df.to_csv(\"../../Resources/events/events.csv\")"
   ]
  }
 ],
 "metadata": {
  "kernelspec": {
   "display_name": "Python 3 (ipykernel)",
   "language": "python",
   "name": "python3"
  },
  "language_info": {
   "codemirror_mode": {
    "name": "ipython",
    "version": 3
   },
   "file_extension": ".py",
   "mimetype": "text/x-python",
   "name": "python",
   "nbconvert_exporter": "python",
   "pygments_lexer": "ipython3",
   "version": "3.9.13"
  }
 },
 "nbformat": 4,
 "nbformat_minor": 5
}
